{
  "nbformat": 4,
  "nbformat_minor": 0,
  "metadata": {
    "colab": {
      "provenance": [],
      "authorship_tag": "ABX9TyPMlT86bFJwXgGumC/CfGcf",
      "include_colab_link": true
    },
    "kernelspec": {
      "name": "python3",
      "display_name": "Python 3"
    },
    "language_info": {
      "name": "python"
    }
  },
  "cells": [
    {
      "cell_type": "markdown",
      "metadata": {
        "id": "view-in-github",
        "colab_type": "text"
      },
      "source": [
        "<a href=\"https://colab.research.google.com/github/hosseinrezaie0/30-AI-Projects-in-30-Days/blob/main/Day%202/Simple%20chatbot%20using%20regex.ipynb\" target=\"_parent\"><img src=\"https://colab.research.google.com/assets/colab-badge.svg\" alt=\"Open In Colab\"/></a>"
      ]
    },
    {
      "cell_type": "code",
      "execution_count": 13,
      "metadata": {
        "id": "c3z7_ztQEOgG"
      },
      "outputs": [],
      "source": [
        "import re"
      ]
    },
    {
      "cell_type": "code",
      "source": [
        "# A dictionary of possible responses to user inputs\n",
        "responses = {\n",
        "    \"hello\": \"Hi there! How can i help you?\",\n",
        "    \"hi\" : \"Hello! How can i help you?\",\n",
        "    \"how are you\" : \"I am just a bot, but i am doing great! How about you?\",\n",
        "    \"waht is your name\" : \"I am a chatbot created to assist you\",\n",
        "    \"help\" : \"Sure. i am here to help you. What do you need assistance with?\",\n",
        "    \"bye\" : \"Goodbye! Have a nice day\",\n",
        "    \"thank you\" : \"You are welcome! I am happy to help you.\",\n",
        "    \"default\" : \"I am sorry, i did not understand that. Can you please rephrase?\"\n",
        "}"
      ],
      "metadata": {
        "id": "2ONhpWGhFAS8"
      },
      "execution_count": 14,
      "outputs": []
    },
    {
      "cell_type": "code",
      "source": [
        "def get_response(user_input):\n",
        "  user_input = user_input.lower()\n",
        "  for keyword in responses:\n",
        "    if re.search(keyword, user_input):\n",
        "      return responses[keyword]\n",
        "  return responses[\"default\"]"
      ],
      "metadata": {
        "id": "-HAKNJBeGFUC"
      },
      "execution_count": 15,
      "outputs": []
    },
    {
      "cell_type": "code",
      "source": [
        "def chat():\n",
        "  print(\"Chatbot : Hello I am here to assist you. (Type 'bye' to exit)\")\n",
        "\n",
        "  while True:\n",
        "    user_input = input(\"You: \")\n",
        "    if user_input.lower() == 'bye':\n",
        "      print(\"Chatbot: Goodbye. Have a great day\")\n",
        "      break\n",
        "    response = get_response(user_input)\n",
        "    print(\"Chatbot: \", response)"
      ],
      "metadata": {
        "id": "qqhQ9FYTGvy9"
      },
      "execution_count": 16,
      "outputs": []
    },
    {
      "cell_type": "code",
      "source": [
        "chat()"
      ],
      "metadata": {
        "colab": {
          "base_uri": "https://localhost:8080/"
        },
        "id": "iEFSyXwXHpdd",
        "outputId": "76bb6730-8314-4b64-f8f0-08cab6c56d3f"
      },
      "execution_count": 17,
      "outputs": [
        {
          "output_type": "stream",
          "name": "stdout",
          "text": [
            "Chatbot : Hello I am here to assist you. (Type 'bye' to exit)\n",
            "You: hi\n",
            "Chatbot:  Hello! How can i help you?\n",
            "You: help\n",
            "Chatbot:  Sure. i am here to help you. What do you need assistance with?\n",
            "You: bye\n",
            "Chatbot: Goodbye. Have a great day\n"
          ]
        }
      ]
    },
    {
      "cell_type": "code",
      "source": [],
      "metadata": {
        "id": "A60mVQiYHrYR"
      },
      "execution_count": null,
      "outputs": []
    }
  ]
}